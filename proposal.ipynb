{
 "cells": [
  {
   "cell_type": "code",
   "execution_count": 2,
   "id": "3437e4d3-c014-446e-bdf2-916302a91f7b",
   "metadata": {
    "tags": []
   },
   "outputs": [
    {
     "name": "stderr",
     "output_type": "stream",
     "text": [
      "── \u001b[1mAttaching core tidyverse packages\u001b[22m ──────────────────────── tidyverse 2.0.0 ──\n",
      "\u001b[32m✔\u001b[39m \u001b[34mdplyr    \u001b[39m 1.1.3     \u001b[32m✔\u001b[39m \u001b[34mreadr    \u001b[39m 2.1.4\n",
      "\u001b[32m✔\u001b[39m \u001b[34mforcats  \u001b[39m 1.0.0     \u001b[32m✔\u001b[39m \u001b[34mstringr  \u001b[39m 1.5.0\n",
      "\u001b[32m✔\u001b[39m \u001b[34mggplot2  \u001b[39m 3.4.3     \u001b[32m✔\u001b[39m \u001b[34mtibble   \u001b[39m 3.2.1\n",
      "\u001b[32m✔\u001b[39m \u001b[34mlubridate\u001b[39m 1.9.2     \u001b[32m✔\u001b[39m \u001b[34mtidyr    \u001b[39m 1.3.0\n",
      "\u001b[32m✔\u001b[39m \u001b[34mpurrr    \u001b[39m 1.0.1     \n",
      "── \u001b[1mConflicts\u001b[22m ────────────────────────────────────────── tidyverse_conflicts() ──\n",
      "\u001b[31m✖\u001b[39m \u001b[34mdplyr\u001b[39m::\u001b[32mfilter()\u001b[39m masks \u001b[34mstats\u001b[39m::filter()\n",
      "\u001b[31m✖\u001b[39m \u001b[34mdplyr\u001b[39m::\u001b[32mlag()\u001b[39m    masks \u001b[34mstats\u001b[39m::lag()\n",
      "\u001b[36mℹ\u001b[39m Use the conflicted package (\u001b[3m\u001b[34m<http://conflicted.r-lib.org/>\u001b[39m\u001b[23m) to force all conflicts to become errors\n",
      "── \u001b[1mAttaching packages\u001b[22m ────────────────────────────────────── tidymodels 1.1.1 ──\n",
      "\n",
      "\u001b[32m✔\u001b[39m \u001b[34mbroom       \u001b[39m 1.0.5     \u001b[32m✔\u001b[39m \u001b[34mrsample     \u001b[39m 1.2.0\n",
      "\u001b[32m✔\u001b[39m \u001b[34mdials       \u001b[39m 1.2.0     \u001b[32m✔\u001b[39m \u001b[34mtune        \u001b[39m 1.1.2\n",
      "\u001b[32m✔\u001b[39m \u001b[34minfer       \u001b[39m 1.0.4     \u001b[32m✔\u001b[39m \u001b[34mworkflows   \u001b[39m 1.1.3\n",
      "\u001b[32m✔\u001b[39m \u001b[34mmodeldata   \u001b[39m 1.2.0     \u001b[32m✔\u001b[39m \u001b[34mworkflowsets\u001b[39m 1.0.1\n",
      "\u001b[32m✔\u001b[39m \u001b[34mparsnip     \u001b[39m 1.1.1     \u001b[32m✔\u001b[39m \u001b[34myardstick   \u001b[39m 1.2.0\n",
      "\u001b[32m✔\u001b[39m \u001b[34mrecipes     \u001b[39m 1.0.8     \n",
      "\n",
      "── \u001b[1mConflicts\u001b[22m ───────────────────────────────────────── tidymodels_conflicts() ──\n",
      "\u001b[31m✖\u001b[39m \u001b[34mscales\u001b[39m::\u001b[32mdiscard()\u001b[39m masks \u001b[34mpurrr\u001b[39m::discard()\n",
      "\u001b[31m✖\u001b[39m \u001b[34mdplyr\u001b[39m::\u001b[32mfilter()\u001b[39m   masks \u001b[34mstats\u001b[39m::filter()\n",
      "\u001b[31m✖\u001b[39m \u001b[34mrecipes\u001b[39m::\u001b[32mfixed()\u001b[39m  masks \u001b[34mstringr\u001b[39m::fixed()\n",
      "\u001b[31m✖\u001b[39m \u001b[34mdplyr\u001b[39m::\u001b[32mlag()\u001b[39m      masks \u001b[34mstats\u001b[39m::lag()\n",
      "\u001b[31m✖\u001b[39m \u001b[34myardstick\u001b[39m::\u001b[32mspec()\u001b[39m masks \u001b[34mreadr\u001b[39m::spec()\n",
      "\u001b[31m✖\u001b[39m \u001b[34mrecipes\u001b[39m::\u001b[32mstep()\u001b[39m   masks \u001b[34mstats\u001b[39m::step()\n",
      "\u001b[34m•\u001b[39m Use suppressPackageStartupMessages() to eliminate package startup messages\n",
      "\n"
     ]
    }
   ],
   "source": [
    "library(tidyverse)\n",
    "library(tidymodels)"
   ]
  },
  {
   "cell_type": "code",
   "execution_count": 36,
   "id": "a8c9da3e-b93f-41a2-a039-fe072793dd8e",
   "metadata": {
    "tags": []
   },
   "outputs": [
    {
     "data": {
      "text/html": [
       "<table class=\"dataframe\">\n",
       "<caption>A tibble: 6 × 8</caption>\n",
       "<thead>\n",
       "\t<tr><th scope=col>Area</th><th scope=col>Perimeter</th><th scope=col>Major_Axis_Length</th><th scope=col>Minor_Axis_Length</th><th scope=col>Eccentricity</th><th scope=col>Convex_Area</th><th scope=col>Extent</th><th scope=col>Class</th></tr>\n",
       "\t<tr><th scope=col>&lt;dbl&gt;</th><th scope=col>&lt;dbl&gt;</th><th scope=col>&lt;dbl&gt;</th><th scope=col>&lt;dbl&gt;</th><th scope=col>&lt;dbl&gt;</th><th scope=col>&lt;dbl&gt;</th><th scope=col>&lt;dbl&gt;</th><th scope=col>&lt;chr&gt;</th></tr>\n",
       "</thead>\n",
       "<tbody>\n",
       "\t<tr><td>15231</td><td>525.579</td><td>229.7499</td><td>85.09379</td><td>0.9288820</td><td>15617</td><td>0.5728955</td><td>Cammeo</td></tr>\n",
       "\t<tr><td>14656</td><td>494.311</td><td>206.0201</td><td>91.73097</td><td>0.8954050</td><td>15072</td><td>0.6154363</td><td>Cammeo</td></tr>\n",
       "\t<tr><td>14634</td><td>501.122</td><td>214.1068</td><td>87.76829</td><td>0.9121181</td><td>14954</td><td>0.6932588</td><td>Cammeo</td></tr>\n",
       "\t<tr><td>13176</td><td>458.343</td><td>193.3374</td><td>87.44839</td><td>0.8918609</td><td>13368</td><td>0.6406690</td><td>Cammeo</td></tr>\n",
       "\t<tr><td>14688</td><td>507.167</td><td>211.7434</td><td>89.31245</td><td>0.9066909</td><td>15262</td><td>0.6460239</td><td>Cammeo</td></tr>\n",
       "\t<tr><td>13479</td><td>477.016</td><td>200.0531</td><td>86.65029</td><td>0.9013283</td><td>13786</td><td>0.6578973</td><td>Cammeo</td></tr>\n",
       "</tbody>\n",
       "</table>\n"
      ],
      "text/latex": [
       "A tibble: 6 × 8\n",
       "\\begin{tabular}{llllllll}\n",
       " Area & Perimeter & Major\\_Axis\\_Length & Minor\\_Axis\\_Length & Eccentricity & Convex\\_Area & Extent & Class\\\\\n",
       " <dbl> & <dbl> & <dbl> & <dbl> & <dbl> & <dbl> & <dbl> & <chr>\\\\\n",
       "\\hline\n",
       "\t 15231 & 525.579 & 229.7499 & 85.09379 & 0.9288820 & 15617 & 0.5728955 & Cammeo\\\\\n",
       "\t 14656 & 494.311 & 206.0201 & 91.73097 & 0.8954050 & 15072 & 0.6154363 & Cammeo\\\\\n",
       "\t 14634 & 501.122 & 214.1068 & 87.76829 & 0.9121181 & 14954 & 0.6932588 & Cammeo\\\\\n",
       "\t 13176 & 458.343 & 193.3374 & 87.44839 & 0.8918609 & 13368 & 0.6406690 & Cammeo\\\\\n",
       "\t 14688 & 507.167 & 211.7434 & 89.31245 & 0.9066909 & 15262 & 0.6460239 & Cammeo\\\\\n",
       "\t 13479 & 477.016 & 200.0531 & 86.65029 & 0.9013283 & 13786 & 0.6578973 & Cammeo\\\\\n",
       "\\end{tabular}\n"
      ],
      "text/markdown": [
       "\n",
       "A tibble: 6 × 8\n",
       "\n",
       "| Area &lt;dbl&gt; | Perimeter &lt;dbl&gt; | Major_Axis_Length &lt;dbl&gt; | Minor_Axis_Length &lt;dbl&gt; | Eccentricity &lt;dbl&gt; | Convex_Area &lt;dbl&gt; | Extent &lt;dbl&gt; | Class &lt;chr&gt; |\n",
       "|---|---|---|---|---|---|---|---|\n",
       "| 15231 | 525.579 | 229.7499 | 85.09379 | 0.9288820 | 15617 | 0.5728955 | Cammeo |\n",
       "| 14656 | 494.311 | 206.0201 | 91.73097 | 0.8954050 | 15072 | 0.6154363 | Cammeo |\n",
       "| 14634 | 501.122 | 214.1068 | 87.76829 | 0.9121181 | 14954 | 0.6932588 | Cammeo |\n",
       "| 13176 | 458.343 | 193.3374 | 87.44839 | 0.8918609 | 13368 | 0.6406690 | Cammeo |\n",
       "| 14688 | 507.167 | 211.7434 | 89.31245 | 0.9066909 | 15262 | 0.6460239 | Cammeo |\n",
       "| 13479 | 477.016 | 200.0531 | 86.65029 | 0.9013283 | 13786 | 0.6578973 | Cammeo |\n",
       "\n"
      ],
      "text/plain": [
       "  Area  Perimeter Major_Axis_Length Minor_Axis_Length Eccentricity Convex_Area\n",
       "1 15231 525.579   229.7499          85.09379          0.9288820    15617      \n",
       "2 14656 494.311   206.0201          91.73097          0.8954050    15072      \n",
       "3 14634 501.122   214.1068          87.76829          0.9121181    14954      \n",
       "4 13176 458.343   193.3374          87.44839          0.8918609    13368      \n",
       "5 14688 507.167   211.7434          89.31245          0.9066909    15262      \n",
       "6 13479 477.016   200.0531          86.65029          0.9013283    13786      \n",
       "  Extent    Class \n",
       "1 0.5728955 Cammeo\n",
       "2 0.6154363 Cammeo\n",
       "3 0.6932588 Cammeo\n",
       "4 0.6406690 Cammeo\n",
       "5 0.6460239 Cammeo\n",
       "6 0.6578973 Cammeo"
      ]
     },
     "metadata": {},
     "output_type": "display_data"
    }
   ],
   "source": [
    "url <- \"https://raw.githubusercontent.com/KevXtroy/s201-dl/main/Rice_Cammeo_Osmancik.arff\"\n",
    "rice_data <- read_csv(url, col_names = c(\"area\", \"perimeter\", \"major_axis_Length\", \"Minor_Axis_Length\", \"Eccentricity\", \"Convex_Area\", \"Extent\", \"Class\"), show_col_types = FALSE, skip = 16) %>%\n",
    "    mutate(class = as_factor(class))\n",
    "\n",
    "head(rice_data)"
   ]
  },
  {
   "cell_type": "code",
   "execution_count": null,
   "id": "4055d89a-9fc4-4efc-aafe-026a8bd3fbe2",
   "metadata": {},
   "outputs": [],
   "source": []
  }
 ],
 "metadata": {
  "kernelspec": {
   "display_name": "R",
   "language": "R",
   "name": "ir"
  },
  "language_info": {
   "codemirror_mode": "r",
   "file_extension": ".r",
   "mimetype": "text/x-r-source",
   "name": "R",
   "pygments_lexer": "r",
   "version": "4.2.3"
  }
 },
 "nbformat": 4,
 "nbformat_minor": 5
}
